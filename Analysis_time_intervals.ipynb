{
 "cells": [
  {
   "cell_type": "markdown",
   "id": "c5af6199",
   "metadata": {},
   "source": [
    "### Initially, the comments were written in Russian. Translated by Google Translator\n",
    "\n",
    "### Изначально комментарии были написаны на русском языке. Переведены через Google-переводчик"
   ]
  },
  {
   "cell_type": "markdown",
   "id": "fad945d4",
   "metadata": {},
   "source": [
    "# Tasks:\n",
    "\n",
    "1. Check whether the passage time of the various stages differs for users who have completed training, from users who have started training, but have not completed it, and from those who have not started training.\n",
    "\n",
    "2. To see if there is a relationship between the probability of paying for questions and the number of training sessions that the user started or completed.\n",
    "\n",
    "3. Determine how often users start learning after they have selected a difficulty level."
   ]
  },
  {
   "cell_type": "markdown",
   "id": "3a9dd3a7",
   "metadata": {},
   "source": [
    "# Задачи:\n",
    "\n",
    "1. Проверить, отличается ли время прохождения различных этапов для пользователей, которые прошли обучение,  от пользователей начашших обучение, но не закончившим его, и от не начинавших обучение.\n",
    "\n",
    "2. Посмотреть, существует ли зависимость между вероятностью оплаты вопросов и количеством обучений, которые начинал или завершал пользователь.\n",
    "\n",
    "3. Определить, как часто пользователи начинают обучение после того, как они выбрали уровень сложности. "
   ]
  },
  {
   "cell_type": "code",
   "execution_count": 1,
   "id": "a29ff4e3",
   "metadata": {},
   "outputs": [],
   "source": [
    "# importing the necessary tools\n",
    "# импортируем необходимые инструменты\n",
    "import pandas as pd \n",
    "import numpy as np\n",
    "import matplotlib.pyplot as plt\n",
    "import seaborn as sns\n",
    "from pprint import pprint\n",
    "import matplotlib.patches as patches\n",
    "import warnings; warnings.simplefilter('ignore')"
   ]
  },
  {
   "cell_type": "markdown",
   "id": "7c1d28b2",
   "metadata": {},
   "source": [
    "#### We are preparing the necessary data, namely the data of users who registered in 2018"
   ]
  },
  {
   "cell_type": "markdown",
   "id": "8d9689e3",
   "metadata": {},
   "source": [
    "#### Подгатавливаем необходимые данные, а именно данные пользователей зарегистрировавшихся в 2018 году"
   ]
  },
  {
   "cell_type": "code",
   "execution_count": 2,
   "id": "0e507a9c",
   "metadata": {},
   "outputs": [],
   "source": [
    "event=pd.read_csv('C:\\\\Users\\\\dgush\\\\Nbook(pyton)\\\\7_4_Events (1).csv')\n",
    "purchase=pd.read_csv(\"C:\\\\Users\\\\dgush\\\\Nbook(pyton)\\\\purchase.xls\")"
   ]
  },
  {
   "cell_type": "code",
   "execution_count": 3,
   "id": "2a3d27e2",
   "metadata": {},
   "outputs": [],
   "source": [
    "# Filtering out all users registered in 2018\n",
    "# Отфильтровываем всех пользователей зарегистрировавшихся в 2018 году\n",
    "reg2018 = event[(event['event_type'] == 'registration') & (event['start_time'] >= '2018-01-01') & (event['start_time'] < '2019-01-01')]\n",
    "\n",
    "#Creating a list of unique user IDs registered in 2018\n",
    "#Создаём список уникальных ID пользователей зарегестрировашихся в 2018 году\n",
    "reg2018_user_list = reg2018['user_id'].unique()\n",
    "\n",
    "# Select from both dataframes all user actions from the list\n",
    "# Отбираем из обоих dataframe все действия пользователей из списка\n",
    "events_df = event[event.user_id.isin(reg2018_user_list)]\n",
    "purchase_df = purchase[purchase.user_id.isin(reg2018_user_list)]\n",
    "\n",
    "#  Bring the time to the datetime format\n",
    "# Приводим время к формату datetime\n",
    "events_df.start_time = pd.to_datetime(events_df.start_time, format = '%Y-%m-%dT%H:%M:%S')\n",
    "purchase_df.event_datetime = pd.to_datetime(purchase_df.event_datetime, format = '%Y-%m-%dT%H:%M:%S')\n",
    "\n",
    "# Adjusting the dataframes to merge: create a column \"event_type\" and rename the rest\n",
    "# Подгатавливаем датафреймы к объединению: создам колонку \"Тип действия\" и переименовываем остальные\n",
    "purchase_df['event_type'] = 'purchase'\n",
    "purchase_df = purchase_df.rename(columns = {'id':'purchase_id'})\n",
    "purchase_df = purchase_df.rename(columns = {'event_datetime':'start_time'})\n",
    "events_df = events_df.rename(columns = {'id':'event_id'})\n",
    "\n",
    "# Combining data into one dataframe\n",
    "# Объединяем данные в один датафрейм\n",
    "total_events_df = pd.concat([events_df,purchase_df],sort = False)\n",
    "\n",
    "# reset indexes and sort by time of events\n",
    "# сбрасываем индексы и сортируем по времени действия\n",
    "total_events_df = total_events_df.reset_index(drop = True).sort_values('start_time')"
   ]
  },
  {
   "cell_type": "markdown",
   "id": "c78ef834",
   "metadata": {},
   "source": [
    "We will divide all users into three groups (Past, not past, not started tutorial) and add a column with the names of the groups to the table."
   ]
  },
  {
   "cell_type": "markdown",
   "id": "747efcd6",
   "metadata": {},
   "source": [
    "Разделим всех пользователей на три группы (Прошедшие, не прошедшие, не начинавшие обучение) и добавим в таблицу столбец с названиями групп."
   ]
  },
  {
   "cell_type": "code",
   "execution_count": 4,
   "id": "7875d872",
   "metadata": {},
   "outputs": [],
   "source": [
    "# Create a list of users who have completed training\n",
    "# Создадим список пользователей закончивших обучение\n",
    "tutorial_finish_df = total_events_df[total_events_df['event_type'] == 'tutorial_finish']\n",
    "set_0 = tutorial_finish_df['user_id'].unique()\n",
    "\n",
    "# The list is not finished\n",
    "# Список не закончивших\n",
    "tutorial_not_df = total_events_df[ - total_events_df.user_id.isin(set_0)]\n",
    "\n",
    "# And additionally select from it a list of those who started but did not finish the training\n",
    "# И дополнительно выделим из него список тех кто начинал но не закончил обучение\n",
    "tutorial_not_fin_tut = tutorial_not_df[tutorial_not_df['event_type'] == 'tutorial_start']\n",
    "set_1 = tutorial_not_fin_tut.user_id.unique()\n",
    "\n",
    "# Add a column with a group\n",
    "# Добавим столбец с группой\n",
    "total_events_df['group'] = total_events_df.apply(lambda x: 'Прошедшие' if x['user_id'] in set_0 \n",
    "                                                 else ('Непрошедшие' if x['user_id'] in set_1  \n",
    "                                                 else 'Не начинавшие'), axis=1)\n"
   ]
  },
  {
   "cell_type": "markdown",
   "id": "bb945bb7",
   "metadata": {},
   "source": [
    "## We check whether the time of passing different stages differs for different groups"
   ]
  },
  {
   "cell_type": "markdown",
   "id": "d7b790d1",
   "metadata": {},
   "source": [
    "## Проверяем отличается ли время прохождения разных этапов у разных групп"
   ]
  },
  {
   "cell_type": "code",
   "execution_count": 5,
   "id": "82b17b0c",
   "metadata": {},
   "outputs": [],
   "source": [
    "# Leave only the columns necessary for analyzing time intervals\n",
    "# Оставляем только столбцы нужные для анализа временных промежутков\n",
    "time_events_df=total_events_df[['user_id','event_type','start_time','group']]"
   ]
  },
  {
   "cell_type": "markdown",
   "id": "355d08e3",
   "metadata": {},
   "source": [
    "Choose time intervals for comparison: from user registration to the start of training; from registration to the choice of a package of questions; from registration to payment of additional packages; from the choice of free to the payment of additional packages."
   ]
  },
  {
   "cell_type": "markdown",
   "id": "39b4d3b3",
   "metadata": {},
   "source": [
    "Выбираем временные промежутки для сравнения: от регестрации пользователя до начала обучения; от регистрации до выбора пакета вопросов; от регистрации до оплаты дополнительтехных пакетов; от выбора бесплатных до оплаты дополнительнительных пакетов."
   ]
  },
  {
   "cell_type": "code",
   "execution_count": 6,
   "id": "15df9b27",
   "metadata": {},
   "outputs": [],
   "source": [
    "# create dataframes for actions (registration, start of training, etc.). Rename the column 'start_time' so as not to get confused in the combined df\n",
    "# создаём датафреймы по действиям (регистрация, начало обучения и т.д.). Переименовываем столбец 'start_time' , чтоб не запутатся в объеденённом df\n",
    "reg_time_df = time_events_df[time_events_df['event_type'] == 'registration'].rename(columns = {'start_time':'registration_time'})\n",
    "tut_start_df = time_events_df[time_events_df['event_type'] == 'tutorial_start'].rename(columns = {'start_time':'tut_start_time'})\n",
    "\n",
    "# combine the tables and add the timedelta time difference column\n",
    "# объединяем таблици и добавляем колонку разница во времени timedelta\n",
    "merge_1_df = reg_time_df.merge(tut_start_df, on = 'user_id', how = 'inner')\n",
    "\n",
    "# count how much time has passed between actions and translate this time into hours\n",
    "# считаем сколько прошло времени между действиями и переводим это время в часы\n",
    "merge_1_df['timedelta_hour'] = (merge_1_df['tut_start_time'] - merge_1_df['registration_time']) / pd.Timedelta('1 hour')\n",
    "# Агрегируем данные для визуализации\n",
    "reg_tut_df = merge_1_df[['timedelta_hour','group_x']].groupby('group_x').mean().reset_index()\n",
    "\n",
    "# Analogy.  Registration - selection of a package of questions\n",
    "# По аналогии. Регистрация - выбор пакета вопросов\n",
    "pack_choice_df = time_events_df[time_events_df['event_type'] == 'pack_choice'].rename(columns = {'start_time': 'pack_choice_time'})\n",
    "merge_2_df = reg_time_df.merge(pack_choice_df, on = 'user_id', how = 'inner')\n",
    "merge_2_df['timedelta_hour'] = (merge_2_df['pack_choice_time'] - merge_2_df['registration_time']) / pd.Timedelta('1 hour')\n",
    "reg_pack_df = merge_2_df[['group_x','timedelta_hour']].groupby('group_x').mean().reset_index()\n",
    "\n",
    "# Registration - purchase of a paid package\n",
    "# Регистрация - покупка платного пакета\n",
    "purchase_time_df = time_events_df[time_events_df['event_type'] == 'purchase'].rename(columns = {'start_time': 'purchase_time'})\n",
    "merge_3_df = reg_time_df.merge(purchase_time_df, on = 'user_id',how = 'inner')\n",
    "merge_3_df['timedelta_hour'] = (merge_3_df['purchase_time'] - merge_3_df['registration_time']) / pd.Timedelta('1 hour')\n",
    "reg_pur_df = merge_3_df[['group_x','timedelta_hour']].groupby('group_x').mean().reset_index()\n",
    "\n",
    "# Choosing a free one - buying a paid package\n",
    "# Выбор бесплатного - покупка пллатного пакета\n",
    "merge_4_df = pack_choice_df.merge(purchase_time_df, on = 'user_id',how = 'inner')\n",
    "merge_4_df['timedelta_hour'] = (merge_4_df['purchase_time'] - merge_4_df['pack_choice_time']) / pd.Timedelta('1 hour')\n",
    "pchoice_pur_df = merge_4_df[['group_x','timedelta_hour']].groupby('group_x').mean().reset_index()"
   ]
  },
  {
   "cell_type": "markdown",
   "id": "70f7d2e5",
   "metadata": {},
   "source": [
    "For clarity, we make simple histograms"
   ]
  },
  {
   "cell_type": "markdown",
   "id": "15aeb76f",
   "metadata": {},
   "source": [
    "Для наглядности делаем простые гистограммы\n"
   ]
  },
  {
   "cell_type": "code",
   "execution_count": 7,
   "id": "155358f9",
   "metadata": {
    "scrolled": true
   },
   "outputs": [
    {
     "name": "stdout",
     "output_type": "stream",
     "text": [
      "От регистрации до начала обучения:        group_x  timedelta_hour\n",
      "0  Непрошедшие        5.444504\n",
      "1    Прошедшие        5.327487 \n",
      "\n",
      " От регистрации до выбора темы          group_x  timedelta_hour\n",
      "0  Не начинавшие        5.121160\n",
      "1    Непрошедшие        8.375664\n",
      "2      Прошедшие        7.176572 \n",
      "\n",
      " От регистрации до оплаты          group_x  timedelta_hour\n",
      "0  Не начинавшие      105.100530\n",
      "1    Непрошедшие      101.548115\n",
      "2      Прошедшие       96.500902 \n",
      "\n",
      " От выбора темы до оплаты          group_x  timedelta_hour\n",
      "0  Не начинавшие      100.825997\n",
      "1    Непрошедшие       93.246363\n",
      "2      Прошедшие       89.299900\n"
     ]
    },
    {
     "data": {
      "image/png": "[encoded data removed]",
      "text/plain": [
       "<Figure size 720x504 with 4 Axes>"
      ]
     },
     "metadata": {
      "needs_background": "light"
     },
     "output_type": "display_data"
    }
   ],
   "source": [
    "fig, axes = plt.subplots(4, 1, figsize = (10, 7))\n",
    "\n",
    "axes[0].barh(reg_tut_df['group_x'],reg_tut_df['timedelta_hour'])\n",
    "axes[0].set_title('От регистрации до начала обучения')\n",
    "\n",
    "axes[1].barh(reg_pack_df['group_x'],reg_pack_df['timedelta_hour'])\n",
    "axes[1].set_title('От регистрации до выбора темы')\n",
    "\n",
    "axes[2].barh(reg_pur_df['group_x'],reg_pur_df['timedelta_hour'])\n",
    "axes[2].set_title('От регистрации до оплаты')\n",
    "\n",
    "axes[3].barh(pchoice_pur_df['group_x'],pchoice_pur_df['timedelta_hour'])\n",
    "axes[3].set_title('От выбора темы до оплаты')\n",
    "\n",
    "print('От регистрации до начала обучения:',reg_tut_df,\n",
    "      '\\n\\n','От регистрации до выбора темы', reg_pack_df,\n",
    "      '\\n\\n','От регистрации до оплаты',reg_pur_df,\n",
    "      '\\n\\n','От выбора темы до оплаты', pchoice_pur_df)"
   ]
  },
  {
   "cell_type": "markdown",
   "id": "765e14cc",
   "metadata": {},
   "source": [
    "Conclusion:\n",
    "From the data provided, it can be seen that users who have completed training spend less time at the transition stage from choosing a free package of questions to buying a paid one. And also trained users (despite the fact that they spent time on training) pass faster from registration to the purchase of additional questions than users who have not been trained."
   ]
  },
  {
   "cell_type": "markdown",
   "id": "008ee73c",
   "metadata": {},
   "source": [
    "Вывод:\n",
    "Из предоставленых данных видно, что пользователи прошедшие обучение тратят меньше времени на этапе перехода от выбора бесплатного пакета вопросов до покупки платного. А так же прошедшие обучение пользователи (несмотря на то, что потратили время на обучение) быстрее проходят от регестрации до покупки дополнительных вопросов, чем пользователи не прошедшие обучение."
   ]
  },
  {
   "cell_type": "markdown",
   "id": "980965ae",
   "metadata": {},
   "source": [
    "##  Checking whether there is a relationship between the probability of paying for questions and the number of training sessions."
   ]
  },
  {
   "cell_type": "markdown",
   "id": "1c6fc86b",
   "metadata": {},
   "source": [
    "## Проверяем, существует ли зависимость между вероятностью оплаты вопросов и количеством прохождений обучения. "
   ]
  },
  {
   "cell_type": "markdown",
   "id": "341bf376",
   "metadata": {},
   "source": [
    "Let's calculate how often the user started training and whether this affects the probability of buying additional questions for them."
   ]
  },
  {
   "cell_type": "markdown",
   "id": "6ca61ff0",
   "metadata": {},
   "source": [
    "Посчитаем как часто пользователь начинал обучение и влияет ли это на вероятность покупки им дополнительных вопросов."
   ]
  },
  {
   "cell_type": "code",
   "execution_count": 8,
   "id": "3438f821",
   "metadata": {},
   "outputs": [],
   "source": [
    "# Counting the number of training sessions started for each user\n",
    "# Считаем количество начатых обучений для каждого пользователя\n",
    "tutorial_start_count_df =  total_events_df[total_events_df['event_type'] == 'tutorial_start'].groupby(['user_id'])['start_time'].count().reset_index()\n",
    "\n",
    "# Renaming the column\n",
    "# Переименовываем столбец\n",
    "tutorial_start_count_df = tutorial_start_count_df.rename(columns = {'start_time':'tutorial_count'})\n",
    "\n",
    "# Adding a new column to the table by combining dataframes\n",
    "# Добавляем новый столбец к таблице объединяя датафреймы\n",
    "count_tutorial_group_df = total_events_df.merge(tutorial_start_count_df, how = 'outer', on = 'user_id')\n",
    "\n",
    "# Replace the NaN with zeros\n",
    "# Заменяем пропуски нулями\n",
    "count_tutorial_group_df['tutorial_count'] = count_tutorial_group_df['tutorial_count'].fillna(0)"
   ]
  },
  {
   "cell_type": "code",
   "execution_count": 9,
   "id": "94b39034",
   "metadata": {},
   "outputs": [],
   "source": [
    "# Grouping data on the number of training sessions\n",
    "# Групперуем данные по количеству прохождений обучения\n",
    "conv_df = count_tutorial_group_df.groupby('tutorial_count').agg({'user_id': 'count','purchase_id': 'count'}).reset_index()\n",
    "\n",
    "# Adding a column with the conversion rate of users to buyers\n",
    "# Добовляем колонку с кофициентом конверсии пользователей в покупателей\n",
    "conv_df['conv'] = round((conv_df['purchase_id'] / conv_df['user_id']) * 100, 1)"
   ]
  },
  {
   "cell_type": "code",
   "execution_count": 10,
   "id": "918e2c83",
   "metadata": {
    "scrolled": true
   },
   "outputs": [
    {
     "data": {
      "text/plain": [
       "Text(0.5, 0, 'Количество обучений')"
      ]
     },
     "execution_count": 10,
     "metadata": {},
     "output_type": "execute_result"
    },
    {
     "data": {
      "image/png": "[encoded data removed]",
      "text/plain": [
       "<Figure size 648x288 with 1 Axes>"
      ]
     },
     "metadata": {
      "needs_background": "light"
     },
     "output_type": "display_data"
    }
   ],
   "source": [
    "# Creating a histogram of the dependence of the number of exposures and the probability of buying additional questions\n",
    "# Создаём гистограмму зависимости количество обоучений и вероятность покупки дополнительных вопросов\n",
    "fig, ax = plt.subplots(figsize=(9,4))\n",
    "ax.vlines(x=conv_df.tutorial_count, ymin=0, ymax=conv_df.conv, color='firebrick', alpha=0.7, linewidth=20)\n",
    "\n",
    "# Data on the histogram\n",
    "# Данные на графике\n",
    "for i, conv in enumerate(conv_df.conv):\n",
    "    ax.text(i, conv+0.2, conv, horizontalalignment='center')\n",
    "\n",
    "\n",
    "# Title, Label, Ticks and Ylim\n",
    "# Подписи, названия, стиль текста\n",
    "ax.set_title('Конвертация покупателей от количества пройденых обучений', fontdict={'size':16})\n",
    "ax.set(ylabel='Процент прокупок', ylim=(0, 4))\n",
    "plt.xticks(conv_df.index, conv_df.tutorial_count, rotation=60, horizontalalignment='right', fontsize=12)\n",
    "plt.xlabel('Количество обучений')\n"
   ]
  },
  {
   "cell_type": "markdown",
   "id": "2b7bcd14",
   "metadata": {},
   "source": [
    "Conclusion:\n",
    "\n",
    "There is a clear correlation between the number of studies started and the purchase of additional question packages. Most often, questions are bought by users who have been trained 1 time, 3.2% of the total. Of those who have been trained twice, the percentage of purchases is already 2.3. And further, with an increase in the number of training sessions, the percentage of those who paid for the pocket decreases below one percent\n",
    "At the same time, only 0.3% of users who have not started training pay an additional fee. questions.\n",
    "\n",
    "Perhaps this is due to the initially higher motivation of people. Users from the first group are trained more carefully, which allows them not to contact him anymore, and are more interested in getting new interesting questions."
   ]
  },
  {
   "cell_type": "markdown",
   "id": "3fc35598",
   "metadata": {},
   "source": [
    " Вывод:\n",
    "\n",
    "Чётко просматривается корреляция между количеством начатых обучений и покупкой дополнительных пакетов вопросов. Чаще всего вопросы покупают пользователи прошедшие обучение 1 раз, 3.2% от общего количества. Из тех, кто прошёл обучение дважды процент покупок уже 2.3. И далее, с увеличением количества прохождений обучения процент оплативших покет снижается ниже одного процента\n",
    "При этом лишь 0.3% из пользователей не начинавших обучение оплачивают доп. вопросы.\n",
    "\n",
    "Возможно, это связано с изначально более высокой мотивации людей. Пользователи из первой группы более внимательно проходят обучение, что позволяет больше не обращаться к нему, и больше заинтересованы в получении новых интересных вопросов."
   ]
  },
  {
   "cell_type": "markdown",
   "id": "8aebb3a8",
   "metadata": {},
   "source": [
    "## How often do users start learning after they have started the game."
   ]
  },
  {
   "cell_type": "markdown",
   "id": "80a3339a",
   "metadata": {},
   "source": [
    "## Часто ли пользователи начинают обучение после того, как они начали игру."
   ]
  },
  {
   "cell_type": "markdown",
   "id": "1760d01f",
   "metadata": {},
   "source": [
    "We will divide users into two groups, those who returned to training after the start of the game and those who did not return."
   ]
  },
  {
   "cell_type": "markdown",
   "id": "8ef2c6b8",
   "metadata": {},
   "source": [
    "Разделим пользователей на две группы, те кто возвращался к обучению после начала игры и невозвращавшихся."
   ]
  },
  {
   "cell_type": "code",
   "execution_count": 11,
   "id": "d0485ecf",
   "metadata": {},
   "outputs": [],
   "source": [
    "# writing a group function that will mark users who have started training after choosing the difficulty level\n",
    "# пишем функцию group которая пометит пользователей начавших обучение после выбора уровня сложности\n",
    "def group(x):  \n",
    "    if x.pack_choice_time > x.tut_start_time:\n",
    "        return 'return_tutorial'\n",
    "    else:\n",
    "        return 'tutorial'"
   ]
  },
  {
   "cell_type": "code",
   "execution_count": 12,
   "id": "43f3ee1d",
   "metadata": {},
   "outputs": [],
   "source": [
    "# Creating a dataframe in which we leave the user id and the time of their registration and the start of the game (choosing a package of questions)\n",
    "# Создаём датафрейм в котором оставляем id пользователя и время их регистрации и начала игры (выбора пакета вопросов)\n",
    "tut_choice_time_df = tut_start_df[['user_id','tut_start_time']].merge(pack_choice_df[['user_id','pack_choice_time']], how = 'inner', on = 'user_id')\n",
    "\n",
    "# Using the group function, we divide users into groups\n",
    "# С помощью функции group разделяем пользователей на группы\n",
    "tut_choice_time_df['tutorial_group'] = tut_choice_time_df.apply(lambda x: group(x), axis = 1)\n",
    "\n",
    "# Creating a dataframe with the number of users in each group\n",
    "# Создаём датафрейм с количеством пользователей в каждой группе\n",
    "return_tut_df = tut_choice_time_df['tutorial_group'].value_counts().reset_index()"
   ]
  },
  {
   "cell_type": "code",
   "execution_count": 13,
   "id": "18d45c20",
   "metadata": {},
   "outputs": [],
   "source": [
    "# Count the percentage of users in each group\n",
    "# Считаем процент пользователей в каждой группе\n",
    "return_tut_df['percent'] = round((return_tut_df['tutorial_group'] / return_tut_df['tutorial_group'].sum()) * 100)\n"
   ]
  },
  {
   "cell_type": "code",
   "execution_count": 14,
   "id": "1a4386de",
   "metadata": {},
   "outputs": [],
   "source": [
    "# For the convenience of plotting, we return the indexes and create a text graph with the names of the segments\n",
    "# Для удобства составления графика возвращаем индексы и создаём текстовую графу с названиями сегментов\n",
    "return_tut_df.set_index('index', inplace = True)\n",
    "return_tut_df['txt'] = return_tut_df['percent'].astype(str) + ' %'"
   ]
  },
  {
   "cell_type": "code",
   "execution_count": 15,
   "id": "38a1d968",
   "metadata": {},
   "outputs": [
    {
     "data": {
      "text/plain": [
       "Text(0, 0.5, '')"
      ]
     },
     "execution_count": 15,
     "metadata": {},
     "output_type": "execute_result"
    },
    {
     "data": {
      "image/png": "[encoded data removed]",
      "text/plain": [
       "<Figure size 432x288 with 1 Axes>"
      ]
     },
     "metadata": {},
     "output_type": "display_data"
    }
   ],
   "source": [
    "# Creating a visual graph\n",
    "# Создаём наглядный график \n",
    "return_tut_df['percent'].plot(kind='pie')\n",
    "\n",
    "plt.title(\"Процет пользователей, начавших обучение после начала игры\")\n",
    "plt.text(-0.6,0.3,return_tut_df['txt'].iloc[0] , color = 'w', size = 12)\n",
    "plt.text(0.3, -0.4,return_tut_df['txt'].iloc[1], color = 'w', size = 12)\n",
    "plt.ylabel(\"\")\n"
   ]
  },
  {
   "cell_type": "markdown",
   "id": "f08103c8",
   "metadata": {},
   "source": [
    "Conclusion:\n",
    "\n",
    "As can be seen from the graph, in 79% of cases, users return to training after the start of the game. \n",
    "From this we can conclude that the interface of the game is not simple and clear enough, and as a result needs to be improved"
   ]
  },
  {
   "cell_type": "markdown",
   "id": "b5fdbfaf",
   "metadata": {},
   "source": [
    "Вывод:\n",
    "\n",
    "Как видно из графика, в 79% случаев пользователи возвращаются к обучению после начала игры. \n",
    "Из этого можно сделать вывод, что интерфейс игры не достаточно прост и понятен, и как следствие нуждается в доработке"
   ]
  }
 ],
 "metadata": {
  "kernelspec": {
   "display_name": "Python 3",
   "language": "python",
   "name": "python3"
  },
  "language_info": {
   "codemirror_mode": {
    "name": "ipython",
    "version": 3
   },
   "file_extension": ".py",
   "mimetype": "text/x-python",
   "name": "python",
   "nbconvert_exporter": "python",
   "pygments_lexer": "ipython3",
   "version": "3.8.8"
  }
 },
 "nbformat": 4,
 "nbformat_minor": 5
}
